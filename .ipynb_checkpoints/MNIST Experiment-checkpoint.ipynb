{
 "cells": [
  {
   "cell_type": "markdown",
   "metadata": {},
   "source": [
    "# AI Safety via Debate: MNIST Experiment\n",
    "\n",
    "In the [original paper](https://arxiv.org/abs/1805.00899) on debate, the authors describe a simple experiment that they performed:\n",
    "\n",
    "> Metaphorically, debate targets the situation where the agents see the big picture, but the judge cannot. We can model this by replacing the metaphorical big picture with an actual picture, chosen at random from a distribution. If the image is simple enough, we can do away with natural language entirely: the two agents state their claimed image class up front, then reveal one pixel of the image per turn to the judge. They cannot lie about these pixels, but a dishonest player could choose them adversarially to fool the judge. The game ends after a fixed number of turns, then the judge sees a sparse mask of the revealed pixels and decides which agent’s class is correct.\n",
    "\n",
    "<img src=\"https://openai.com/content/images/2018/05/debate-game-flow-figure@2x.png\"/>\n",
    "\n",
    "To start with, we will create the weak-classifier judge."
   ]
  },
  {
   "cell_type": "code",
   "execution_count": 238,
   "metadata": {
    "collapsed": false
   },
   "outputs": [],
   "source": [
    "from typing import List, Tuple\n",
    "import random\n",
    "from itertools import cycle\n",
    "\n",
    "import keras\n",
    "from keras.layers import Dense, Dropout, Activation, Flatten\n",
    "from keras.layers import Convolution2D, MaxPooling2D\n",
    "from keras.datasets import mnist\n",
    "from keras.utils.np_utils import to_categorical\n",
    "\n",
    "import numpy as np\n",
    "import matplotlib.pyplot as plt\n",
    "\n",
    "%matplotlib inline"
   ]
  },
  {
   "cell_type": "markdown",
   "metadata": {},
   "source": [
    "## Data Generation"
   ]
  },
  {
   "cell_type": "code",
   "execution_count": 251,
   "metadata": {
    "collapsed": false
   },
   "outputs": [],
   "source": [
    "def normalise(x: np.ndarray) -> np.ndarray:\n",
    "    x = x - np.min(x)\n",
    "    x = x / np.max(x)\n",
    "    return x\n",
    "\n",
    "class DataGenerator(keras.utils.Sequence):\n",
    "    '''\n",
    "        DataGenerator adapted from https://stanford.edu/~shervine/blog/keras-how-to-generate-data-on-the-fly\n",
    "    '''\n",
    "    \n",
    "    def __init__(self, \n",
    "                 data: np.ndarray or List[np.ndarray], \n",
    "                 labels: np.ndarray, \n",
    "                 batch_size=32, \n",
    "                 dim=(28, 28), \n",
    "                 n_channels=1,\n",
    "                 n_classes=10, \n",
    "                 shuffle=True, \n",
    "                 seed=None):\n",
    "        'Initialization'\n",
    "        \n",
    "        if seed is not None:\n",
    "            np.random.seed(seed)\n",
    "        \n",
    "        self.dim = dim\n",
    "        self.batch_size = batch_size\n",
    "        self.n_channels = n_channels\n",
    "        self.n_classes = n_classes\n",
    "        self.shuffle = shuffle\n",
    "        \n",
    "        self.labels = to_categorical(labels, \n",
    "                                     num_classes=self.n_classes)\n",
    "        self.data = np.array([\n",
    "                normalise(sample) \n",
    "                for sample in data\n",
    "        ])\n",
    "        \n",
    "        num_samples, *_ = self.data.shape\n",
    "        self.indices = np.arange(num_samples)\n",
    "        self.idx_iterator = cycle(range(0, len(self)))\n",
    "        \n",
    "        self.on_epoch_end()\n",
    "\n",
    "    def on_epoch_end(self):\n",
    "        'Updates indices after each epoch'\n",
    "        if self.shuffle == True:\n",
    "            np.random.shuffle(self.indices)\n",
    "\n",
    "    def __len__(self) -> int:\n",
    "        'Denotes the number of batches per epoch'\n",
    "        return int(np.floor(self.indices.size / self.batch_size))\n",
    "\n",
    "    def __getitem__(self, index: int) -> Tuple[np.ndarray, np.ndarray]:\n",
    "        'Generate one batch of data'\n",
    "        # Generate indexes of the batch\n",
    "        i = index*self.batch_size\n",
    "        j = (index + 1)*self.batch_size\n",
    "        indices = self.indices[i:j]\n",
    "\n",
    "        # Generate data\n",
    "        X = self.data[indices]\n",
    "        y = self.labels[indices]\n",
    "\n",
    "        return X, y\n",
    "    \n",
    "    def __next__(self):\n",
    "        return self[next(self.idx_iterator)]"
   ]
  },
  {
   "cell_type": "code",
   "execution_count": 252,
   "metadata": {
    "collapsed": false
   },
   "outputs": [],
   "source": [
    "class MaskedDataGenerator(DataGenerator):\n",
    "    '''\n",
    "        DataGenerator that randomly masks generated samples such that only\n",
    "        a few non-zero elements are preserved.\n",
    "    '''\n",
    "    \n",
    "    def __init__(self,\n",
    "                 data: np.ndarray or List[np.ndarray], \n",
    "                 labels: np.ndarray, \n",
    "                 num_preserved=5, \n",
    "                 **kwargs):\n",
    "        super(MaskedDataGenerator, self).__init__(data, labels, **kwargs)\n",
    "        self.num_preserved = num_preserved\n",
    "    \n",
    "    def _create_mask(self, img: np.ndarray) -> np.ndarray:\n",
    "        non_zero_elements = np.argwhere(img)\n",
    "        num_non_zero, *_ = non_zero_elements.shape\n",
    "        sample_indices = np.random.choice(np.arange(num_non_zero), \n",
    "                                          size=self.num_preserved)\n",
    "        sample = non_zero_elements[sample_indices]\n",
    "        mask = np.zeros(img.shape)\n",
    "        mask[sample[:, 0], sample[:, 1]] = 1\n",
    "        return mask\n",
    "    \n",
    "    def __getitem__(self, index: int) -> Tuple[np.ndarray, np.ndarray]:\n",
    "        X, y = super(MaskedDataGenerator, self).__getitem__(index)\n",
    "        masks = np.apply_over_axes(lambda x, _: self._create_mask(x), X, 0)\n",
    "        return X*masks, y"
   ]
  },
  {
   "cell_type": "code",
   "execution_count": 4,
   "metadata": {
    "collapsed": false
   },
   "outputs": [
    {
     "name": "stdout",
     "output_type": "stream",
     "text": [
      "Downloading data from https://s3.amazonaws.com/img-datasets/mnist.npz\n",
      "11493376/11490434 [==============================] - 7s 1us/step\n"
     ]
    }
   ],
   "source": [
    "# Load pre-shuffled MNIST data into train and test sets\n",
    "(X_train, y_train), (X_test, y_test) = mnist.load_data()"
   ]
  },
  {
   "cell_type": "code",
   "execution_count": 255,
   "metadata": {
    "collapsed": false
   },
   "outputs": [
    {
     "data": {
      "image/png": "[encoded data removed]",
      "text/plain": [
       "<Figure size 720x288 with 10 Axes>"
      ]
     },
     "metadata": {
      "needs_background": "light"
     },
     "output_type": "display_data"
    }
   ],
   "source": [
    "fig, axs = plt.subplots(nrows=2, ncols=5, figsize=(10, 4))\n",
    "mnist_train_data_gen = DataGenerator(X_train, y_train, seed=0)\n",
    "masked_mnist_train_data_gen = MaskedDataGenerator(X_train, y_train)\n",
    "for row in axs:\n",
    "    for ax in row:\n",
    "        (img, *_), y = next(mnist_train_data_gen)\n",
    "        mask = masked_mnist_train_data_gen._create_mask(img)\n",
    "        ax.imshow(img*0.5 + mask)\n",
    "        ax.axis('off')\n",
    "plt.tight_layout()\n",
    "plt.show()"
   ]
  },
  {
   "cell_type": "code",
   "execution_count": null,
   "metadata": {
    "collapsed": true
   },
   "outputs": [],
   "source": []
  }
 ],
 "metadata": {
  "anaconda-cloud": {},
  "kernelspec": {
   "display_name": "Python [conda env:tensorflow-gpu]",
   "language": "python",
   "name": "conda-env-tensorflow-gpu-py"
  },
  "language_info": {
   "codemirror_mode": {
    "name": "ipython",
    "version": 3
   },
   "file_extension": ".py",
   "mimetype": "text/x-python",
   "name": "python",
   "nbconvert_exporter": "python",
   "pygments_lexer": "ipython3",
   "version": "3.5.4"
  }
 },
 "nbformat": 4,
 "nbformat_minor": 1
}
