{
 "cells": [
  {
   "cell_type": "markdown",
   "metadata": {},
   "source": [
    "# AI Safety via Debate: MNIST Experiment\n",
    "\n",
    "In the [original paper](https://arxiv.org/abs/1805.00899) on debate, the authors describe an experiment that they performed:\n",
    "\n",
    "> Metaphorically, debate targets the situation where the agents see the big picture, but the judge cannot. We can model this by replacing the metaphorical big picture with an actual picture, chosen at random from a distribution. If the image is simple enough, we can do away with natural language entirely: the two agents state their claimed image class up front, then reveal one pixel of the image per turn to the judge. They cannot lie about these pixels, but a dishonest player could choose them adversarially to fool the judge. The game ends after a fixed number of turns, then the judge sees a sparse mask of the revealed pixels and decides which agent’s class is correct.\n",
    "\n",
    "<img src=\"https://openai.com/content/images/2018/05/debate-game-flow-figure@2x.png\"/>\n",
    "\n",
    "To start with, we will create the weak-classifier judge."
   ]
  },
  {
   "cell_type": "code",
   "execution_count": 22,
   "metadata": {},
   "outputs": [
    {
     "name": "stdout",
     "output_type": "stream",
     "text": [
      "Using Python 3.5.4\n"
     ]
    }
   ],
   "source": [
    "from typing import List, Tuple\n",
    "import random\n",
    "from itertools import cycle\n",
    "\n",
    "import keras\n",
    "from keras import Sequential\n",
    "from keras.layers import Dense, Dropout, Activation, Flatten\n",
    "from keras.layers import Convolution2D, MaxPooling2D\n",
    "from keras.datasets import mnist\n",
    "from keras.utils.np_utils import to_categorical\n",
    "\n",
    "from mcts import Node, MCTS\n",
    "\n",
    "import numpy as np\n",
    "import matplotlib.pyplot as plt\n",
    "\n",
    "%matplotlib inline\n",
    "\n",
    "from platform import python_version\n",
    "print('Using Python', python_version())"
   ]
  },
  {
   "cell_type": "markdown",
   "metadata": {},
   "source": [
    "## Data Generation"
   ]
  },
  {
   "cell_type": "code",
   "execution_count": 2,
   "metadata": {},
   "outputs": [],
   "source": [
    "def normalise(x: np.ndarray) -> np.ndarray:\n",
    "    x = x - np.min(x)\n",
    "    x = x / np.max(x)\n",
    "    return x\n",
    "\n",
    "class DataGenerator(keras.utils.Sequence):\n",
    "    '''\n",
    "        DataGenerator adapted from \n",
    "        https://stanford.edu/~shervine/blog/keras-how-to-generate-data-on-the-fly\n",
    "    '''\n",
    "    \n",
    "    def __init__(self, \n",
    "                 data: np.ndarray or List[np.ndarray], \n",
    "                 labels: np.ndarray, \n",
    "                 batch_size=32, \n",
    "                 dim=(28, 28), \n",
    "                 n_channels=1,\n",
    "                 n_classes=10, \n",
    "                 shuffle=True, \n",
    "                 seed=None):\n",
    "        'Initialization'\n",
    "        \n",
    "        if seed is not None:\n",
    "            np.random.seed(seed)\n",
    "        \n",
    "        self.dim = dim\n",
    "        self.batch_size = batch_size\n",
    "        self.n_channels = n_channels\n",
    "        self.n_classes = n_classes\n",
    "        self.shuffle = shuffle\n",
    "        \n",
    "        self.labels = to_categorical(labels, \n",
    "                                     num_classes=self.n_classes)\n",
    "        self.data = np.array([\n",
    "                normalise(sample) \n",
    "                for sample in data\n",
    "        ])\n",
    "        \n",
    "        num_samples, *_ = self.data.shape\n",
    "        self.indices = np.arange(num_samples)\n",
    "        self.idx_iterator = cycle(range(0, len(self)))\n",
    "        \n",
    "        self.on_epoch_end()\n",
    "\n",
    "    def on_epoch_end(self):\n",
    "        'Updates indices after each epoch'\n",
    "        if self.shuffle == True:\n",
    "            np.random.shuffle(self.indices)\n",
    "\n",
    "    def __len__(self) -> int:\n",
    "        'Denotes the number of batches per epoch'\n",
    "        return int(np.floor(self.indices.size / self.batch_size))\n",
    "\n",
    "    def __getitem__(self, index: int) -> Tuple[np.ndarray, np.ndarray]:\n",
    "        'Generate one batch of data'\n",
    "        # Generate indexes of the batch\n",
    "        i = index*self.batch_size\n",
    "        j = (index + 1)*self.batch_size\n",
    "        indices = self.indices[i:j]\n",
    "\n",
    "        # Generate data\n",
    "        X = self.data[indices]\n",
    "        y = self.labels[indices]\n",
    "\n",
    "        return X, y\n",
    "    \n",
    "    def __next__(self):\n",
    "        return self[next(self.idx_iterator)]"
   ]
  },
  {
   "cell_type": "code",
   "execution_count": 3,
   "metadata": {},
   "outputs": [],
   "source": [
    "class MaskedDataGenerator(DataGenerator):\n",
    "    '''\n",
    "        DataGenerator that randomly masks generated samples such that only\n",
    "        a few non-zero elements are preserved.\n",
    "    '''\n",
    "    \n",
    "    def __init__(self,\n",
    "                 data: np.ndarray or List[np.ndarray], \n",
    "                 labels: np.ndarray, \n",
    "                 num_preserved=6, \n",
    "                 **kwargs):\n",
    "        super(MaskedDataGenerator, self).__init__(data, labels, **kwargs)\n",
    "        self.num_preserved = num_preserved\n",
    "    \n",
    "    @staticmethod\n",
    "    def _create_mask(img: np.ndarray, \n",
    "                     num_preserved: int) -> np.ndarray:\n",
    "        non_zero_elements = np.argwhere(img)\n",
    "        num_non_zero, *_ = non_zero_elements.shape\n",
    "        sample_indices = np.random.choice(np.arange(num_non_zero), \n",
    "                                          size=num_preserved)\n",
    "        sample = non_zero_elements[sample_indices]\n",
    "        mask = np.zeros(img.shape)\n",
    "        mask[sample[:, 0], sample[:, 1]] = 1\n",
    "        return mask\n",
    "    \n",
    "    def __getitem__(self, index: int) -> Tuple[np.ndarray, np.ndarray]:\n",
    "        X, y = super(MaskedDataGenerator, self).__getitem__(index)\n",
    "        masks = np.array([\n",
    "                self._create_mask(img, self.num_preserved)\n",
    "                for img in X\n",
    "        ])\n",
    "        return X*masks, y"
   ]
  },
  {
   "cell_type": "code",
   "execution_count": 4,
   "metadata": {},
   "outputs": [],
   "source": [
    "# Load pre-shuffled MNIST data into train and test sets\n",
    "(X_train, y_train), (X_test, y_test) = mnist.load_data()"
   ]
  },
  {
   "cell_type": "markdown",
   "metadata": {},
   "source": [
    "A sampling of the generated data is shown below with the original images in light blue and the brighter pixels showing what is revealled after the masking."
   ]
  },
  {
   "cell_type": "code",
   "execution_count": 5,
   "metadata": {
    "scrolled": true
   },
   "outputs": [
    {
     "data": {
      "image/png": "[encoded data removed]",
      "text/plain": [
       "<Figure size 720x288 with 10 Axes>"
      ]
     },
     "metadata": {
      "needs_background": "light"
     },
     "output_type": "display_data"
    }
   ],
   "source": [
    "fig, axs = plt.subplots(nrows=2, ncols=5, figsize=(10, 4))\n",
    "mnist_train_data_gen = DataGenerator(X_train, y_train, seed=0)\n",
    "for row in axs:\n",
    "    for ax in row:\n",
    "        (img, *_), y = next(mnist_train_data_gen)\n",
    "        mask = MaskedDataGenerator._create_mask(img, 6)\n",
    "        ax.imshow(img*0.5 + mask)\n",
    "        ax.axis('off')\n",
    "plt.tight_layout()\n",
    "plt.show()"
   ]
  },
  {
   "cell_type": "markdown",
   "metadata": {},
   "source": [
    "## Judge Model Definition"
   ]
  },
  {
   "cell_type": "code",
   "execution_count": 6,
   "metadata": {},
   "outputs": [
    {
     "name": "stdout",
     "output_type": "stream",
     "text": [
      "_________________________________________________________________\n",
      "Layer (type)                 Output Shape              Param #   \n",
      "=================================================================\n",
      "input_1 (InputLayer)         (None, 28, 28, 1)         0         \n",
      "_________________________________________________________________\n",
      "conv2d_1 (Conv2D)            (None, 26, 26, 32)        320       \n",
      "_________________________________________________________________\n",
      "conv2d_2 (Conv2D)            (None, 24, 24, 32)        9248      \n",
      "_________________________________________________________________\n",
      "max_pooling2d_1 (MaxPooling2 (None, 12, 12, 32)        0         \n",
      "_________________________________________________________________\n",
      "dropout_1 (Dropout)          (None, 12, 12, 32)        0         \n",
      "_________________________________________________________________\n",
      "flatten_1 (Flatten)          (None, 4608)              0         \n",
      "_________________________________________________________________\n",
      "dense_1 (Dense)              (None, 128)               589952    \n",
      "_________________________________________________________________\n",
      "dropout_2 (Dropout)          (None, 128)               0         \n",
      "_________________________________________________________________\n",
      "dense_2 (Dense)              (None, 10)                1290      \n",
      "=================================================================\n",
      "Total params: 600,810\n",
      "Trainable params: 600,810\n",
      "Non-trainable params: 0\n",
      "_________________________________________________________________\n"
     ]
    }
   ],
   "source": [
    "def judge_untrained():\n",
    "    inputs = keras.Input(shape=(28, 28, 1))\n",
    "\n",
    "    output = Convolution2D(32, (3, 3), activation='relu')(inputs)\n",
    "    output = Convolution2D(32, (3, 3), activation='relu')(output)\n",
    "    output = MaxPooling2D(pool_size=(2,2))(output)\n",
    "    output = Dropout(0.25)(output)\n",
    "\n",
    "    output = Flatten()(output)\n",
    "    output = Dense(128, activation='relu')(output)\n",
    "    output = Dropout(0.5)(output)\n",
    "    output = Dense(10, activation='softmax')(output)\n",
    "    \n",
    "    model = keras.Model(inputs=[inputs], outputs=[output])   \n",
    "    model.compile(loss='categorical_crossentropy',\n",
    "                  optimizer='adam',\n",
    "                  metrics=['accuracy'])\n",
    "    return model\n",
    "\n",
    "judge_untrained().summary()"
   ]
  },
  {
   "cell_type": "markdown",
   "metadata": {},
   "source": [
    "## Training the Judge\n",
    "\n",
    "Firstly, we will do a sanity check and train a judge on unmasked data to verify that it learns to perform well."
   ]
  },
  {
   "cell_type": "code",
   "execution_count": 7,
   "metadata": {},
   "outputs": [
    {
     "name": "stdout",
     "output_type": "stream",
     "text": [
      "Epoch 1/1\n",
      "1875/1875 [==============================] - 68s 36ms/step - loss: 0.2153 - acc: 0.9344 - val_loss: 0.0500 - val_acc: 0.9840\n"
     ]
    },
    {
     "data": {
      "text/plain": [
       "<keras.callbacks.History at 0x1b3ff5801d0>"
      ]
     },
     "execution_count": 7,
     "metadata": {},
     "output_type": "execute_result"
    }
   ],
   "source": [
    "judge = judge_untrained()\n",
    "train_data_gen = DataGenerator(X_train.reshape(X_train.shape + (1,)), \n",
    "                               y_train, seed=0)\n",
    "val_data_gen = DataGenerator(X_test.reshape(X_test.shape + (1,)), \n",
    "                             y_test)\n",
    "judge.fit_generator(train_data_gen, validation_data=val_data_gen)"
   ]
  },
  {
   "cell_type": "markdown",
   "metadata": {},
   "source": [
    "We can see that it achieves an accuracy score of 98.3% on the test data.\n",
    "\n",
    "Now, when we train it on the masked data (only 6 pixels shown), we can see that it performs significantly worse with a test accuracy of 50.5%. A number that is comparable to the results in the paper (section 3, table 2)."
   ]
  },
  {
   "cell_type": "code",
   "execution_count": 8,
   "metadata": {},
   "outputs": [
    {
     "name": "stdout",
     "output_type": "stream",
     "text": [
      "Epoch 1/1\n",
      "1875/1875 [==============================] - 59s 32ms/step - loss: 1.5793 - acc: 0.4470 - val_loss: 1.3941 - val_acc: 0.5115\n"
     ]
    },
    {
     "data": {
      "text/plain": [
       "<keras.callbacks.History at 0x1b3c8c4bda0>"
      ]
     },
     "execution_count": 8,
     "metadata": {},
     "output_type": "execute_result"
    }
   ],
   "source": [
    "judge = judge_untrained()\n",
    "train_data_gen = MaskedDataGenerator(X_train.reshape(X_train.shape + (1,)), \n",
    "                                     y_train, seed=0)\n",
    "val_data_gen = MaskedDataGenerator(X_test.reshape(X_test.shape + (1,)), \n",
    "                                   y_test)\n",
    "judge.fit_generator(train_data_gen, validation_data=val_data_gen);"
   ]
  },
  {
   "cell_type": "markdown",
   "metadata": {},
   "source": [
    "## Monte-Carlo Tree Search\n",
    "\n",
    "Debate is framed as a zero-sum two-player game, and while this formulation is indepedent of any particular player implementation, the authors note that an approach that has worked well for similar problems is Monte-Carlo Tree Search (MCTS). I am adapting [Luke Harold Miles' minimal implementation of MCTS](https://gist.github.com/qpwo/c538c6f73727e254fdc7fab81024f6e1) for the debate game."
   ]
  },
  {
   "cell_type": "code",
   "execution_count": 31,
   "metadata": {},
   "outputs": [],
   "source": [
    "class PixelDebatePlayer(object):\n",
    "    \n",
    "    def __init__(self,\n",
    "                 precommit: int or None,\n",
    "                 is_honest: bool):\n",
    "        \"\"\"\n",
    "        A participant in the debate game\n",
    "        params:\n",
    "        - precommit: Determines the win criteria for the player. If it is a number then the \n",
    "            player wins only if the judge comes to the conclusion of the precommit.\n",
    "            It can only be None if the player is not honest, and in this situation the\n",
    "            player wins only if the honest player succeeds in convincing the judge.\n",
    "        - is_honest: An indicator of honesty\n",
    "        \"\"\"\n",
    "        self.precommit = precommit\n",
    "        self.is_honest = is_honest\n",
    "\n",
    "class PixelDebateState(Node):\n",
    "    \n",
    "    def __init__(self, \n",
    "                 image: np.ndarray,\n",
    "                 judge: Callable[np.ndarray, int],\n",
    "                 searcher: PixelDebatePlayer,\n",
    "                 adversary: PixelDebatePlayer,\n",
    "                 current_player: PixelDebatePlayer=None, \n",
    "                 already_picked: List[np.ndarray]=[],\n",
    "                 game_length=6):\n",
    "        \"\"\"\n",
    "        A state of play in the debate game\n",
    "        params:\n",
    "        - image: the image that the debaters are picking pixels from\n",
    "        - judge: A function that takes and image and determines the MNIST class\n",
    "        - searcher: The player who is performing the search\n",
    "        - adversary: The other player in the debate game\n",
    "        - current_player: The player whose turn it is to make a move \n",
    "        - already_picked: A list of coordinates representing pixels that have been played\n",
    "        - game_length: The number of turns in the game\n",
    "        \"\"\"\n",
    "        self.image = image\n",
    "        self.already_picked = already_picked\n",
    "        self.judge = judge\n",
    "        self.searcher = searcher\n",
    "        self.adversary = adversary\n",
    "        self.current_player = current_player or searcher\n",
    "        self.game_length = game_length\n",
    "\n",
    "    def find_children(self):\n",
    "        \"All possible successors of this board state\"\n",
    "        next_player = self.searcher \\\n",
    "            if self.current_player == self.adversary \\\n",
    "            else self.adversary\n",
    "        return set(\n",
    "            PixelDebateState(self.image, \n",
    "                             self.judge,\n",
    "                             self.searcher,\n",
    "                             self.adversary,\n",
    "                             next_player,\n",
    "                             self.already_picked + [coord,],\n",
    "                             game_length)\n",
    "            for coord in np.argwhere(self.image)\n",
    "            if coord not in self.already_picked\n",
    "        )\n",
    "\n",
    "    def find_random_child(self):\n",
    "        \"Random successor of this board state (for more efficient simulation)\"\n",
    "        if self.is_terminal()\n",
    "            return None\n",
    "        return random.choice(self.find_children())\n",
    "\n",
    "    def is_terminal(self):\n",
    "        \"Returns True if the node has no children\"\n",
    "        return len(self.already_picked) >= self.game_length \n",
    "\n",
    "    def reward(self):\n",
    "        \"Assumes `self` is terminal node. 1=win, 0=loss, .5=tie, etc\"\n",
    "        return 0 #TODO\n",
    "\n",
    "    def __hash__(self):\n",
    "        \"Nodes must be hashable\"\n",
    "        return hash(str(self.already_picked))\n",
    "\n",
    "    def __eq__(node1, node2):\n",
    "        \"Nodes must be comparable\"\n",
    "        return node1.already_picked == node2.already_picked \\\n",
    "            and node1.image == node2.image\n",
    "\n",
    "class PixelDebateMCTS(MCTS):\n",
    "    \n",
    "    def _select(self, node: PixelDebateState) -> PixelDebateState:\n",
    "        \n",
    "        child_visits = sum([\n",
    "            self.N[c] for c in node.find_children()\n",
    "        ])\n",
    "        def U(n):\n",
    "            P = 1.0 / np.sum(n.image > 0)\n",
    "            return P * np.sqrt(child_visits) / (self.N[n] + 1)\n",
    "        \n",
    "        if node.current_player == node.adversary:\n",
    "            return min(self.children[node], key=U)\n",
    "        else:\n",
    "            return max(self.children[node], key=U)"
   ]
  }
 ],
 "metadata": {
  "anaconda-cloud": {},
  "kernelspec": {
   "display_name": "Python 3",
   "language": "python",
   "name": "python3"
  },
  "language_info": {
   "codemirror_mode": {
    "name": "ipython",
    "version": 3
   },
   "file_extension": ".py",
   "mimetype": "text/x-python",
   "name": "python",
   "nbconvert_exporter": "python",
   "pygments_lexer": "ipython3",
   "version": "3.5.4"
  }
 },
 "nbformat": 4,
 "nbformat_minor": 1
}
