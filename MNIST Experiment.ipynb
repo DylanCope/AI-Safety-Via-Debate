{
 "cells": [
  {
   "cell_type": "markdown",
   "metadata": {},
   "source": [
    "# AI Safety via Debate: MNIST Experiment\n",
    "\n",
    "In the [original paper](https://arxiv.org/abs/1805.00899) on debate, the authors describe an experiment that they performed:\n",
    "\n",
    "> Metaphorically, debate targets the situation where the agents see the big picture, but the judge cannot. We can model this by replacing the metaphorical big picture with an actual picture, chosen at random from a distribution. If the image is simple enough, we can do away with natural language entirely: the two agents state their claimed image class up front, then reveal one pixel of the image per turn to the judge. They cannot lie about these pixels, but a dishonest player could choose them adversarially to fool the judge. The game ends after a fixed number of turns, then the judge sees a sparse mask of the revealed pixels and decides which agent’s class is correct.\n",
    "\n",
    "<img src=\"https://openai.com/content/images/2018/05/debate-game-flow-figure@2x.png\"/>\n",
    "\n",
    "To start with, we will create the weak-classifier judge."
   ]
  },
  {
   "cell_type": "code",
   "execution_count": 1,
   "metadata": {},
   "outputs": [
    {
     "name": "stdout",
     "output_type": "stream",
     "text": [
      "Using Python 3.5.4\n"
     ]
    },
    {
     "name": "stderr",
     "output_type": "stream",
     "text": [
      "Using TensorFlow backend.\n"
     ]
    }
   ],
   "source": [
    "from platform import python_version\n",
    "print('Using Python', python_version())\n",
    "\n",
    "from typing import List, Tuple, Callable\n",
    "import random\n",
    "from itertools import cycle\n",
    "\n",
    "import keras\n",
    "from keras import Sequential\n",
    "from keras.layers import Dense, Dropout, Activation, Flatten\n",
    "from keras.layers import Convolution2D, MaxPooling2D\n",
    "from keras.datasets import mnist\n",
    "from keras.utils.np_utils import to_categorical\n",
    "\n",
    "from mcts import Node as MCTSNode, MCTS\n",
    "\n",
    "import numpy as np\n",
    "import matplotlib.pyplot as plt\n",
    "\n",
    "%matplotlib inline"
   ]
  },
  {
   "cell_type": "markdown",
   "metadata": {},
   "source": [
    "## Data Generation"
   ]
  },
  {
   "cell_type": "code",
   "execution_count": 2,
   "metadata": {},
   "outputs": [],
   "source": [
    "def normalise(x: np.ndarray) -> np.ndarray:\n",
    "    x = x - np.min(x)\n",
    "    x = x / np.max(x)\n",
    "    return x\n",
    "\n",
    "class DataGenerator(keras.utils.Sequence):\n",
    "    '''\n",
    "        DataGenerator adapted from \n",
    "        https://stanford.edu/~shervine/blog/keras-how-to-generate-data-on-the-fly\n",
    "    '''\n",
    "    \n",
    "    def __init__(self, \n",
    "                 data: np.ndarray or List[np.ndarray], \n",
    "                 labels: np.ndarray, \n",
    "                 batch_size=32, \n",
    "                 dim=(28, 28), \n",
    "                 n_channels=1,\n",
    "                 n_classes=10, \n",
    "                 shuffle=True, \n",
    "                 seed=None):\n",
    "        'Initialization'\n",
    "        \n",
    "        if seed is not None:\n",
    "            np.random.seed(seed)\n",
    "        \n",
    "        self.dim = dim\n",
    "        self.batch_size = batch_size\n",
    "        self.n_channels = n_channels\n",
    "        self.n_classes = n_classes\n",
    "        self.shuffle = shuffle\n",
    "        \n",
    "        self.labels = to_categorical(labels, \n",
    "                                     num_classes=self.n_classes)\n",
    "        self.data = np.array([\n",
    "                normalise(sample) \n",
    "                for sample in data\n",
    "        ])\n",
    "        \n",
    "        num_samples, *_ = self.data.shape\n",
    "        self.indices = np.arange(num_samples)\n",
    "        self.idx_iterator = cycle(range(0, len(self)))\n",
    "        \n",
    "        self.on_epoch_end()\n",
    "\n",
    "    def on_epoch_end(self):\n",
    "        'Updates indices after each epoch'\n",
    "        if self.shuffle == True:\n",
    "            np.random.shuffle(self.indices)\n",
    "\n",
    "    def __len__(self) -> int:\n",
    "        'Denotes the number of batches per epoch'\n",
    "        return int(np.floor(self.indices.size / self.batch_size))\n",
    "\n",
    "    def __getitem__(self, index: int) -> Tuple[np.ndarray, np.ndarray]:\n",
    "        'Generate one batch of data'\n",
    "        # Generate indexes of the batch\n",
    "        i = index*self.batch_size\n",
    "        j = (index + 1)*self.batch_size\n",
    "        indices = self.indices[i:j]\n",
    "\n",
    "        # Generate data\n",
    "        X = self.data[indices]\n",
    "        y = self.labels[indices]\n",
    "\n",
    "        return X, y\n",
    "    \n",
    "    def __next__(self):\n",
    "        return self[next(self.idx_iterator)]"
   ]
  },
  {
   "cell_type": "code",
   "execution_count": 3,
   "metadata": {},
   "outputs": [],
   "source": [
    "class MaskedDataGenerator(DataGenerator):\n",
    "    '''\n",
    "        DataGenerator that randomly masks generated samples such that only\n",
    "        a few non-zero elements are preserved.\n",
    "    '''\n",
    "    \n",
    "    def __init__(self,\n",
    "                 data: np.ndarray or List[np.ndarray], \n",
    "                 labels: np.ndarray, \n",
    "                 num_preserved=6, \n",
    "                 **kwargs):\n",
    "        super(MaskedDataGenerator, self).__init__(data, labels, **kwargs)\n",
    "        self.num_preserved = num_preserved\n",
    "    \n",
    "    @staticmethod\n",
    "    def _create_mask(img: np.ndarray, \n",
    "                     num_preserved: int) -> np.ndarray:\n",
    "        non_zero_elements = np.argwhere(img)\n",
    "        num_non_zero, *_ = non_zero_elements.shape\n",
    "        sample_indices = np.random.choice(np.arange(num_non_zero), \n",
    "                                          size=num_preserved)\n",
    "        sample = non_zero_elements[sample_indices]\n",
    "        mask = np.zeros(img.shape)\n",
    "        mask[sample[:, 0], sample[:, 1]] = 1\n",
    "        return mask\n",
    "    \n",
    "    def __getitem__(self, index: int) -> Tuple[np.ndarray, np.ndarray]:\n",
    "        X, y = super(MaskedDataGenerator, self).__getitem__(index)\n",
    "        masks = np.array([\n",
    "                self._create_mask(img, self.num_preserved)\n",
    "                for img in X\n",
    "        ])\n",
    "        return X*masks, y"
   ]
  },
  {
   "cell_type": "code",
   "execution_count": 4,
   "metadata": {},
   "outputs": [],
   "source": [
    "# Load pre-shuffled MNIST data into train and test sets\n",
    "(X_train, y_train), (X_test, y_test) = mnist.load_data()"
   ]
  },
  {
   "cell_type": "markdown",
   "metadata": {},
   "source": [
    "A sampling of the generated data is shown below with the original images in light blue and the brighter pixels showing what is revealled after the masking."
   ]
  },
  {
   "cell_type": "code",
   "execution_count": 5,
   "metadata": {
    "scrolled": true
   },
   "outputs": [
    {
     "data": {
      "image/png": "[encoded data removed]",
      "text/plain": [
       "<Figure size 720x288 with 10 Axes>"
      ]
     },
     "metadata": {
      "needs_background": "light"
     },
     "output_type": "display_data"
    }
   ],
   "source": [
    "fig, axs = plt.subplots(nrows=2, ncols=5, figsize=(10, 4))\n",
    "mnist_train_data_gen = DataGenerator(X_train, y_train, seed=0)\n",
    "for row in axs:\n",
    "    for ax in row:\n",
    "        (img, *_), y = next(mnist_train_data_gen)\n",
    "        mask = MaskedDataGenerator._create_mask(img, 6)\n",
    "        ax.imshow(img*0.5 + mask)\n",
    "        ax.axis('off')\n",
    "plt.tight_layout()\n",
    "plt.show()"
   ]
  },
  {
   "cell_type": "markdown",
   "metadata": {},
   "source": [
    "## Judge Model Definition"
   ]
  },
  {
   "cell_type": "code",
   "execution_count": 6,
   "metadata": {},
   "outputs": [
    {
     "name": "stdout",
     "output_type": "stream",
     "text": [
      "_________________________________________________________________\n",
      "Layer (type)                 Output Shape              Param #   \n",
      "=================================================================\n",
      "input_1 (InputLayer)         (None, 28, 28, 1)         0         \n",
      "_________________________________________________________________\n",
      "conv2d_1 (Conv2D)            (None, 26, 26, 32)        320       \n",
      "_________________________________________________________________\n",
      "conv2d_2 (Conv2D)            (None, 24, 24, 32)        9248      \n",
      "_________________________________________________________________\n",
      "max_pooling2d_1 (MaxPooling2 (None, 12, 12, 32)        0         \n",
      "_________________________________________________________________\n",
      "dropout_1 (Dropout)          (None, 12, 12, 32)        0         \n",
      "_________________________________________________________________\n",
      "flatten_1 (Flatten)          (None, 4608)              0         \n",
      "_________________________________________________________________\n",
      "dense_1 (Dense)              (None, 128)               589952    \n",
      "_________________________________________________________________\n",
      "dropout_2 (Dropout)          (None, 128)               0         \n",
      "_________________________________________________________________\n",
      "dense_2 (Dense)              (None, 10)                1290      \n",
      "=================================================================\n",
      "Total params: 600,810\n",
      "Trainable params: 600,810\n",
      "Non-trainable params: 0\n",
      "_________________________________________________________________\n"
     ]
    }
   ],
   "source": [
    "def judge_untrained():\n",
    "    inputs = keras.Input(shape=(28, 28, 1))\n",
    "\n",
    "    output = Convolution2D(32, (3, 3), activation='relu')(inputs)\n",
    "    output = Convolution2D(32, (3, 3), activation='relu')(output)\n",
    "    output = MaxPooling2D(pool_size=(2,2))(output)\n",
    "    output = Dropout(0.25)(output)\n",
    "\n",
    "    output = Flatten()(output)\n",
    "    output = Dense(128, activation='relu')(output)\n",
    "    output = Dropout(0.5)(output)\n",
    "    output = Dense(10, activation='softmax')(output)\n",
    "    \n",
    "    model = keras.Model(inputs=[inputs], outputs=[output])   \n",
    "    model.compile(loss='categorical_crossentropy',\n",
    "                  optimizer='adam',\n",
    "                  metrics=['accuracy'])\n",
    "    return model\n",
    "\n",
    "judge_untrained().summary()"
   ]
  },
  {
   "cell_type": "markdown",
   "metadata": {},
   "source": [
    "## Training the Judge\n",
    "\n",
    "Firstly, we will do a sanity check and train a judge on unmasked data to verify that it learns to perform well."
   ]
  },
  {
   "cell_type": "code",
   "execution_count": 155,
   "metadata": {},
   "outputs": [
    {
     "name": "stdout",
     "output_type": "stream",
     "text": [
      "Epoch 1/1\n",
      "1875/1875 [==============================] - 67s 36ms/step - loss: 0.2086 - acc: 0.9361 - val_loss: 0.0498 - val_acc: 0.9848\n"
     ]
    },
    {
     "data": {
      "text/plain": [
       "<keras.callbacks.History at 0x2c0bf711198>"
      ]
     },
     "execution_count": 155,
     "metadata": {},
     "output_type": "execute_result"
    }
   ],
   "source": [
    "judge = judge_untrained()\n",
    "train_data_gen = DataGenerator(X_train.reshape(X_train.shape + (1,)), \n",
    "                               y_train, seed=0)\n",
    "val_data_gen = DataGenerator(X_test.reshape(X_test.shape + (1,)), \n",
    "                             y_test)\n",
    "judge.fit_generator(train_data_gen, validation_data=val_data_gen)"
   ]
  },
  {
   "cell_type": "markdown",
   "metadata": {},
   "source": [
    "We can see that it achieves an accuracy score of 98.3% on the test data.\n",
    "\n",
    "Now, when we train it on the masked data (only 6 pixels shown), we can see that it performs significantly worse with a test accuracy of 50.5%. A number that is comparable to the results in the paper (section 3, table 2)."
   ]
  },
  {
   "cell_type": "code",
   "execution_count": 156,
   "metadata": {},
   "outputs": [
    {
     "name": "stdout",
     "output_type": "stream",
     "text": [
      "Epoch 1/1\n",
      "1875/1875 [==============================] - 45s 24ms/step - loss: 1.5829 - acc: 0.4470 - val_loss: 1.4138 - val_acc: 0.5116\n"
     ]
    }
   ],
   "source": [
    "judge = judge_untrained()\n",
    "train_data_gen = MaskedDataGenerator(X_train.reshape(X_train.shape + (1,)), \n",
    "                                     y_train, seed=0)\n",
    "val_data_gen = MaskedDataGenerator(X_test.reshape(X_test.shape + (1,)), \n",
    "                                   y_test)\n",
    "judge.fit_generator(train_data_gen, validation_data=val_data_gen);"
   ]
  },
  {
   "cell_type": "markdown",
   "metadata": {},
   "source": [
    "## Monte-Carlo Tree Search\n",
    "\n",
    "Debate is framed as a zero-sum two-player game, and while this formulation is indepedent of any particular player implementation, the authors note that an approach that has worked well for similar problems is Monte-Carlo Tree Search (MCTS). I am adapting [Luke Harold Miles' minimal implementation of MCTS](https://gist.github.com/qpwo/c538c6f73727e254fdc7fab81024f6e1) for the debate game."
   ]
  },
  {
   "cell_type": "code",
   "execution_count": 41,
   "metadata": {},
   "outputs": [],
   "source": [
    "class PixelDebatePlayer(object):\n",
    "    \n",
    "    def __init__(self,\n",
    "                 precommit: int or None,\n",
    "                 is_honest: bool):\n",
    "        \"\"\"\n",
    "        A participant in the debate game\n",
    "        params:\n",
    "        - precommit: Determines the win criteria for the player. If it is a number then the \n",
    "            player wins only if the judge comes to the conclusion of the precommit.\n",
    "            It can only be None if the player is not honest, and in this situation the\n",
    "            player wins only if the honest player succeeds in convincing the judge.\n",
    "        - is_honest: An indicator of honesty\n",
    "        \"\"\"\n",
    "        self.precommit = precommit\n",
    "        self.is_honest = is_honest\n",
    "        self.tree = PixelDebateMCTS()\n",
    "        \n",
    "\n",
    "class PixelDebateGame(object):\n",
    "    \n",
    "    def __init__(self,\n",
    "                 image: np.ndarray,\n",
    "                 judge: Callable[[np.ndarray], int],\n",
    "                 player_1: PixelDebatePlayer,\n",
    "                 player_2: PixelDebatePlayer,\n",
    "                 game_length=6,\n",
    "                 rollouts_per_move=10000,\n",
    "                 seed=0):\n",
    "        \"\"\"\n",
    "        Game information\n",
    "        params:\n",
    "        - image: the image that the debaters are picking pixels from\n",
    "        - judge: A function that takes and image and determines the MNIST class\n",
    "        - player_1: The player that goes first\n",
    "        - player_2: The player that goes second\n",
    "        - game_length: The number of turns in the game\n",
    "        - rollouts_per_move: Number of MCTS simulations per move\n",
    "        \"\"\"\n",
    "        self.image = image\n",
    "        self.judge = judge\n",
    "        self.player_1 = player_1\n",
    "        self.player_2 = player_2\n",
    "        self.game_length = game_length\n",
    "        self.rollouts_per_move = rollouts_per_move\n",
    "        random.seed(seed)\n",
    "        \n",
    "    def other_player(self, player: PixelDebatePlayer) -> PixelDebatePlayer:\n",
    "        return self.player_1 if player == self.player_2 else self.player_2\n",
    "        \n",
    "    def masked_image(self, moves_played: List[Tuple[int, int]]) -> np.ndarray:\n",
    "        \"\"\"\n",
    "        Creates mask from moves played and applies it to the input image\n",
    "        params:\n",
    "        - moves_played: List of coordinates that have been played so far\n",
    "        \"\"\"\n",
    "        indices = np.array(moves_played)\n",
    "        xs, ys = indices[:, 0], indices[:, 1]\n",
    "        img = np.zeros(self.image.shape)\n",
    "        img[xs, ys] = self.image[xs, ys]\n",
    "        return img\n",
    "    \n",
    "    def judge_verdict(self, moves_played: List[Tuple[int, int]]) -> np.ndarray:\n",
    "        \"\"\"\n",
    "        Returns the judges verdict on the game\n",
    "        params:\n",
    "        - moves_played: List of coordinates that have been played so far\n",
    "        \"\"\"\n",
    "        return self.judge(self.masked_image(moves_played))\n",
    "    \n",
    "    def winner(self, moves_played: List[Tuple[int, int]]) -> PixelDebatePlayer:\n",
    "        \n",
    "        verdict = self.judge_verdict(moves_played)\n",
    "        \n",
    "        for player in [self.player_1, self.player_2]:\n",
    "            if verdict == player.precommit or (\n",
    "                player.precommit is None and \n",
    "                verdict != self.other_player(player).precommit\n",
    "            ):\n",
    "                return player\n",
    "        \n",
    "        return None\n",
    "        \n",
    "    def play(self) -> List[Tuple[int, int]]:\n",
    "        \"\"\"\n",
    "        Plays a game and returns the moves that were made\n",
    "        \"\"\"\n",
    "        moves_played = []\n",
    "        current_player = self.player_1\n",
    "        \n",
    "        for _ in range(6):\n",
    "            state = PixelDebateMCTSNode(\n",
    "                game=self,\n",
    "                searcher=current_player,\n",
    "                moves_played=moves_played\n",
    "            )\n",
    "            \n",
    "            for _ in range(self.rollouts_per_move):\n",
    "                current_player.tree.do_rollout(state)\n",
    "                \n",
    "            next_state = current_player.tree.choose(state)\n",
    "            moves_played = next_state.moves_played\n",
    "            current_player = state.adversary\n",
    "        \n",
    "        return moves_played\n",
    "\n",
    "    \n",
    "class PixelDebateMCTSNode(MCTSNode):\n",
    "    \n",
    "    def __init__(self,\n",
    "                 game: PixelDebateGame,\n",
    "                 searcher: PixelDebatePlayer,\n",
    "                 current_player: PixelDebatePlayer=None,\n",
    "                 moves_played: List[Tuple[int, int]] = []):\n",
    "        \"\"\"\n",
    "        A state of play in the debate game\n",
    "        params:\n",
    "        - game: Description of the current game\n",
    "        - searcher: The player who is performing the search\n",
    "        - current_player: The player whose turn it is to make a move \n",
    "        - moves_played: List of coordinates that have been played so far\n",
    "        \"\"\"\n",
    "        self.game = game\n",
    "        self.searcher = searcher\n",
    "        self.adversary = game.other_player(searcher)\n",
    "        self.current_player = current_player or searcher\n",
    "        self.moves_played = moves_played\n",
    "\n",
    "    def find_children(self):\n",
    "        \"All possible successors of this board state\"\n",
    "        \n",
    "        next_player = self.game.other_player(self.current_player)\n",
    "        \n",
    "        return {\n",
    "            PixelDebateMCTSNode(self.game,\n",
    "                                self.searcher,\n",
    "                                next_player,\n",
    "                                self.moves_played + [tuple(coord),])\n",
    "            for coord in np.argwhere(self.game.image)\n",
    "            if tuple(coord) not in self.moves_played\n",
    "        }\n",
    "\n",
    "    def find_random_child(self):\n",
    "        \"Random successor of this board state (for more efficient simulation)\"\n",
    "        if self.is_terminal():\n",
    "            return None\n",
    "        return random.choice(list(self.find_children()))\n",
    "\n",
    "    def is_terminal(self) -> bool:\n",
    "        \"Returns True if the node has no children\"\n",
    "        return len(self.moves_played) >= self.game.game_length \n",
    "\n",
    "    def reward(self) -> float:\n",
    "        \"Assumes `self` is terminal node. 1=win, 0=loss, .5=tie, etc\"\n",
    "        winner = self.game.winner(self.moves_played)\n",
    "        if winner == self.searcher:\n",
    "            return 1\n",
    "        if winner == self.adversary:\n",
    "            return 0\n",
    "        return 0.5\n",
    "\n",
    "    def __hash__(self):\n",
    "        \"Nodes must be hashable\"\n",
    "        # sorting to ensure that the state is the same regardless\n",
    "        coords = sorted(self.moves_played)\n",
    "        return hash(str(coords))\n",
    "\n",
    "    def __eq__(node1, node2):\n",
    "        \"Nodes must be comparable\"\n",
    "        return set(node1.moves_played) == set(node2.moves_played) \\\n",
    "            and node1.game == node2.game\n",
    "    \n",
    "\n",
    "class PixelDebateMCTS(MCTS):\n",
    "    \n",
    "    def _select_decendent(self, node: PixelDebateMCTSNode) -> PixelDebateMCTSNode:\n",
    "        \"\"\"\n",
    "        The debate paper outlines how their selection is atypical but\n",
    "        follows from AlphaZero (Silver et al., 2016).\n",
    "        Details on page 26 of: \n",
    "        https://discovery.ucl.ac.uk/id/eprint/10045895/1/agz_unformatted_nature.pdf\n",
    "        \"\"\"\n",
    "        \n",
    "        def U(n: PixelDebateMCTSNode) -> float:\n",
    "            P = 1.0 / np.sum(n.game.image > 0)\n",
    "            child_visits = sum([\n",
    "                self.N[c] for c in self.children.get(n, [])\n",
    "            ])\n",
    "            return P * np.sqrt(child_visits) / (self.N[n] + 1)\n",
    "        \n",
    "        def puct(n: PixelDebateMCTSNode) -> float:\n",
    "            return self.Q[n] + U(n)\n",
    "        \n",
    "        return max(self.children[node], key=puct)"
   ]
  },
  {
   "cell_type": "code",
   "execution_count": 168,
   "metadata": {},
   "outputs": [
    {
     "data": {
      "text/plain": [
       "3"
      ]
     },
     "execution_count": 168,
     "metadata": {},
     "output_type": "execute_result"
    }
   ],
   "source": [
    ".argmax()"
   ]
  },
  {
   "cell_type": "code",
   "execution_count": 185,
   "metadata": {},
   "outputs": [],
   "source": [
    "data_gen = DataGenerator(X_train, \n",
    "                         y_train, \n",
    "                         seed=0)\n",
    "(img, *_), (y, *__) = next(data_gen)\n",
    "y = np.argmax(y)\n",
    "\n",
    "honest_player = PixelDebatePlayer(precommit=y, is_honest=True)\n",
    "\n",
    "not_y = random.choice([i for i in range(1, 11) if i != y])\n",
    "lying_player = PixelDebatePlayer(precommit=not_y, is_honest=False)\n",
    "\n",
    "def judge_fn(img):\n",
    "    x = img.reshape(img.shape + (1,))\n",
    "    x = np.array([x])\n",
    "    return judge.predict(x).argmax()\n",
    "\n",
    "game = PixelDebateGame(image=img, \n",
    "                       judge=judge_fn, \n",
    "                       player_1=honest_player, \n",
    "                       player_2=lying_player,\n",
    "                       rollouts_per_move=50,\n",
    "                       seed=0)"
   ]
  },
  {
   "cell_type": "code",
   "execution_count": 186,
   "metadata": {},
   "outputs": [
    {
     "name": "stdout",
     "output_type": "stream",
     "text": [
      "It was a draw.\n"
     ]
    }
   ],
   "source": [
    "moves = game.play()\n",
    "if game.winner(moves) == honest_player:\n",
    "    print('The honest player wins!')\n",
    "elif game.winner(moves) == lying_player:\n",
    "    print('The lying player wins!')\n",
    "else:\n",
    "    print('It was a draw.')"
   ]
  },
  {
   "cell_type": "markdown",
   "metadata": {},
   "source": [
    "### Visualising the Moves\n",
    "\n",
    "Here we display the image that the game was played with alongside the moves that were made.\n",
    "Blue pixels indicate moves made by the honest player and red by the lying player."
   ]
  },
  {
   "cell_type": "code",
   "execution_count": 187,
   "metadata": {},
   "outputs": [
    {
     "data": {
      "image/png": "[encoded data removed]",
      "text/plain": [
       "<Figure size 432x288 with 1 Axes>"
      ]
     },
     "metadata": {
      "needs_background": "light"
     },
     "output_type": "display_data"
    }
   ],
   "source": [
    "res = np.repeat(0.5*img, 3).reshape(img.shape + (3,))\n",
    "\n",
    "p1_idx = np.array([moves[0], moves[2], moves[4]])\n",
    "res[p1_idx[:, 0], p1_idx[:, 1], :] = 0\n",
    "res[p1_idx[:, 0], p1_idx[:, 1], 2] = 1\n",
    "\n",
    "p2_idx = np.array([moves[1], moves[3], moves[5]])\n",
    "res[p2_idx[:, 0], p2_idx[:, 1], :] = 0\n",
    "res[p2_idx[:, 0], p2_idx[:, 1], 0] = 1\n",
    "\n",
    "plt.imshow(res);"
   ]
  },
  {
   "cell_type": "code",
   "execution_count": null,
   "metadata": {},
   "outputs": [],
   "source": []
  }
 ],
 "metadata": {
  "anaconda-cloud": {},
  "kernelspec": {
   "display_name": "Python 3",
   "language": "python",
   "name": "python3"
  },
  "language_info": {
   "codemirror_mode": {
    "name": "ipython",
    "version": 3
   },
   "file_extension": ".py",
   "mimetype": "text/x-python",
   "name": "python",
   "nbconvert_exporter": "python",
   "pygments_lexer": "ipython3",
   "version": "3.5.4"
  }
 },
 "nbformat": 4,
 "nbformat_minor": 1
}
