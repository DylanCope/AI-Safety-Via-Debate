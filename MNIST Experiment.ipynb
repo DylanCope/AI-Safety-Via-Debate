{
 "cells": [
  {
   "cell_type": "markdown",
   "metadata": {},
   "source": [
    "# AI Safety via Debate: MNIST Experiment\n",
    "\n",
    "In the [original paper](https://arxiv.org/abs/1805.00899) on debate, the authors describe a simple experiment that they performed:\n",
    "\n",
    "> Metaphorically, debate targets the situation where the agents see the big picture, but the judge cannot. We can model this by replacing the metaphorical big picture with an actual picture, chosen at random from a distribution. If the image is simple enough, we can do away with natural language entirely: the two agents state their claimed image class up front, then reveal one pixel of the image per turn to the judge. They cannot lie about these pixels, but a dishonest player could choose them adversarially to fool the judge. The game ends after a fixed number of turns, then the judge sees a sparse mask of the revealed pixels and decides which agent’s class is correct.\n",
    "\n",
    "<img src=\"https://openai.com/content/images/2018/05/debate-game-flow-figure@2x.png\"/>\n",
    "\n",
    "To start with, we will create the weak-classifier judge."
   ]
  },
  {
   "cell_type": "code",
   "execution_count": 272,
   "metadata": {
    "collapsed": false
   },
   "outputs": [],
   "source": [
    "from typing import List, Tuple\n",
    "import random\n",
    "from itertools import cycle\n",
    "\n",
    "import keras\n",
    "from keras import Sequential\n",
    "from keras.layers import Dense, Dropout, Activation, Flatten\n",
    "from keras.layers import Convolution2D, MaxPooling2D\n",
    "from keras.datasets import mnist\n",
    "from keras.utils.np_utils import to_categorical\n",
    "\n",
    "import numpy as np\n",
    "import matplotlib.pyplot as plt\n",
    "\n",
    "%matplotlib inline"
   ]
  },
  {
   "cell_type": "markdown",
   "metadata": {},
   "source": [
    "## Data Generation"
   ]
  },
  {
   "cell_type": "code",
   "execution_count": 251,
   "metadata": {
    "collapsed": false
   },
   "outputs": [],
   "source": [
    "def normalise(x: np.ndarray) -> np.ndarray:\n",
    "    x = x - np.min(x)\n",
    "    x = x / np.max(x)\n",
    "    return x\n",
    "\n",
    "class DataGenerator(keras.utils.Sequence):\n",
    "    '''\n",
    "        DataGenerator adapted from \n",
    "        https://stanford.edu/~shervine/blog/keras-how-to-generate-data-on-the-fly\n",
    "    '''\n",
    "    \n",
    "    def __init__(self, \n",
    "                 data: np.ndarray or List[np.ndarray], \n",
    "                 labels: np.ndarray, \n",
    "                 batch_size=32, \n",
    "                 dim=(28, 28), \n",
    "                 n_channels=1,\n",
    "                 n_classes=10, \n",
    "                 shuffle=True, \n",
    "                 seed=None):\n",
    "        'Initialization'\n",
    "        \n",
    "        if seed is not None:\n",
    "            np.random.seed(seed)\n",
    "        \n",
    "        self.dim = dim\n",
    "        self.batch_size = batch_size\n",
    "        self.n_channels = n_channels\n",
    "        self.n_classes = n_classes\n",
    "        self.shuffle = shuffle\n",
    "        \n",
    "        self.labels = to_categorical(labels, \n",
    "                                     num_classes=self.n_classes)\n",
    "        self.data = np.array([\n",
    "                normalise(sample) \n",
    "                for sample in data\n",
    "        ])\n",
    "        \n",
    "        num_samples, *_ = self.data.shape\n",
    "        self.indices = np.arange(num_samples)\n",
    "        self.idx_iterator = cycle(range(0, len(self)))\n",
    "        \n",
    "        self.on_epoch_end()\n",
    "\n",
    "    def on_epoch_end(self):\n",
    "        'Updates indices after each epoch'\n",
    "        if self.shuffle == True:\n",
    "            np.random.shuffle(self.indices)\n",
    "\n",
    "    def __len__(self) -> int:\n",
    "        'Denotes the number of batches per epoch'\n",
    "        return int(np.floor(self.indices.size / self.batch_size))\n",
    "\n",
    "    def __getitem__(self, index: int) -> Tuple[np.ndarray, np.ndarray]:\n",
    "        'Generate one batch of data'\n",
    "        # Generate indexes of the batch\n",
    "        i = index*self.batch_size\n",
    "        j = (index + 1)*self.batch_size\n",
    "        indices = self.indices[i:j]\n",
    "\n",
    "        # Generate data\n",
    "        X = self.data[indices]\n",
    "        y = self.labels[indices]\n",
    "\n",
    "        return X, y\n",
    "    \n",
    "    def __next__(self):\n",
    "        return self[next(self.idx_iterator)]"
   ]
  },
  {
   "cell_type": "code",
   "execution_count": 267,
   "metadata": {
    "collapsed": false
   },
   "outputs": [],
   "source": [
    "class MaskedDataGenerator(DataGenerator):\n",
    "    '''\n",
    "        DataGenerator that randomly masks generated samples such that only\n",
    "        a few non-zero elements are preserved.\n",
    "    '''\n",
    "    \n",
    "    def __init__(self,\n",
    "                 data: np.ndarray or List[np.ndarray], \n",
    "                 labels: np.ndarray, \n",
    "                 num_preserved=5, \n",
    "                 **kwargs):\n",
    "        super(MaskedDataGenerator, self).__init__(data, labels, **kwargs)\n",
    "        self.num_preserved = num_preserved\n",
    "    \n",
    "    @staticmethod\n",
    "    def _create_mask(img: np.ndarray, \n",
    "                     num_preserved: int) -> np.ndarray:\n",
    "        non_zero_elements = np.argwhere(img)\n",
    "        num_non_zero, *_ = non_zero_elements.shape\n",
    "        sample_indices = np.random.choice(np.arange(num_non_zero), \n",
    "                                          size=num_preserved)\n",
    "        sample = non_zero_elements[sample_indices]\n",
    "        mask = np.zeros(img.shape)\n",
    "        mask[sample[:, 0], sample[:, 1]] = 1\n",
    "        return mask\n",
    "    \n",
    "    def __getitem__(self, index: int) -> Tuple[np.ndarray, np.ndarray]:\n",
    "        X, y = super(MaskedDataGenerator, self).__getitem__(index)\n",
    "        masks = np.array([\n",
    "                self._create_mask(img, self.num_preserved)\n",
    "                for img in X\n",
    "        ])\n",
    "        return X*masks, y"
   ]
  },
  {
   "cell_type": "code",
   "execution_count": 4,
   "metadata": {
    "collapsed": false
   },
   "outputs": [
    {
     "name": "stdout",
     "output_type": "stream",
     "text": [
      "Downloading data from https://s3.amazonaws.com/img-datasets/mnist.npz\n",
      "11493376/11490434 [==============================] - 7s 1us/step\n"
     ]
    }
   ],
   "source": [
    "# Load pre-shuffled MNIST data into train and test sets\n",
    "(X_train, y_train), (X_test, y_test) = mnist.load_data()"
   ]
  },
  {
   "cell_type": "markdown",
   "metadata": {},
   "source": [
    "A sampling of the generated data is shown below with the original images in light blue and the brighter pixels showing what is revealled after the masking."
   ]
  },
  {
   "cell_type": "code",
   "execution_count": 269,
   "metadata": {
    "collapsed": false,
    "scrolled": true
   },
   "outputs": [
    {
     "data": {
      "image/png": "[encoded data removed]",
      "text/plain": [
       "<Figure size 720x288 with 10 Axes>"
      ]
     },
     "metadata": {
      "needs_background": "light"
     },
     "output_type": "display_data"
    }
   ],
   "source": [
    "fig, axs = plt.subplots(nrows=2, ncols=5, figsize=(10, 4))\n",
    "mnist_train_data_gen = DataGenerator(X_train, y_train, seed=0)\n",
    "for row in axs:\n",
    "    for ax in row:\n",
    "        (img, *_), y = next(mnist_train_data_gen)\n",
    "        mask = MaskedDataGenerator._create_mask(img, 5)\n",
    "        ax.imshow(img*0.5 + mask)\n",
    "        ax.axis('off')\n",
    "plt.tight_layout()\n",
    "plt.show()"
   ]
  },
  {
   "cell_type": "markdown",
   "metadata": {},
   "source": [
    "## Judge Model Definition"
   ]
  },
  {
   "cell_type": "code",
   "execution_count": 311,
   "metadata": {
    "collapsed": false
   },
   "outputs": [
    {
     "name": "stdout",
     "output_type": "stream",
     "text": [
      "_________________________________________________________________\n",
      "Layer (type)                 Output Shape              Param #   \n",
      "=================================================================\n",
      "input_13 (InputLayer)        (None, 28, 28, 1)         0         \n",
      "_________________________________________________________________\n",
      "conv2d_42 (Conv2D)           (None, 26, 26, 32)        320       \n",
      "_________________________________________________________________\n",
      "conv2d_43 (Conv2D)           (None, 24, 24, 32)        9248      \n",
      "_________________________________________________________________\n",
      "max_pooling2d_18 (MaxPooling (None, 12, 12, 32)        0         \n",
      "_________________________________________________________________\n",
      "dropout_32 (Dropout)         (None, 12, 12, 32)        0         \n",
      "_________________________________________________________________\n",
      "flatten_18 (Flatten)         (None, 4608)              0         \n",
      "_________________________________________________________________\n",
      "dense_29 (Dense)             (None, 128)               589952    \n",
      "_________________________________________________________________\n",
      "dropout_33 (Dropout)         (None, 128)               0         \n",
      "_________________________________________________________________\n",
      "dense_30 (Dense)             (None, 10)                1290      \n",
      "=================================================================\n",
      "Total params: 600,810\n",
      "Trainable params: 600,810\n",
      "Non-trainable params: 0\n",
      "_________________________________________________________________\n"
     ]
    }
   ],
   "source": [
    "def judge_untrained():\n",
    "    inputs = keras.Input(shape=(28, 28, 1))\n",
    "\n",
    "    output = Convolution2D(32, (3, 3), activation='relu')(inputs)\n",
    "    output = Convolution2D(32, (3, 3), activation='relu')(output)\n",
    "    output = MaxPooling2D(pool_size=(2,2))(output)\n",
    "    output = Dropout(0.25)(output)\n",
    "\n",
    "    output = Flatten()(output)\n",
    "    output = Dense(128, activation='relu')(output)\n",
    "    output = Dropout(0.5)(output)\n",
    "    output = Dense(10, activation='softmax')(output)\n",
    "    \n",
    "    model = keras.Model(inputs=[inputs], outputs=[output])   \n",
    "    model.compile(loss='categorical_crossentropy',\n",
    "                  optimizer='adam',\n",
    "                  metrics=['accuracy'])\n",
    "    return model\n",
    "\n",
    "judge_untrained().summary()"
   ]
  },
  {
   "cell_type": "markdown",
   "metadata": {},
   "source": [
    "## Training the Judge\n",
    "\n",
    "Firstly, we will do a sanity check and train a judge on unmasked data to verify that it learns to perform well."
   ]
  },
  {
   "cell_type": "code",
   "execution_count": 315,
   "metadata": {
    "collapsed": false
   },
   "outputs": [
    {
     "name": "stdout",
     "output_type": "stream",
     "text": [
      "Epoch 1/1\n",
      "1875/1875 [==============================] - 61s 33ms/step - loss: 0.2097 - acc: 0.9354 - val_loss: 0.0548 - val_acc: 0.9827\n"
     ]
    },
    {
     "data": {
      "text/plain": [
       "<keras.callbacks.History at 0x228e3bc5d68>"
      ]
     },
     "execution_count": 315,
     "metadata": {},
     "output_type": "execute_result"
    }
   ],
   "source": [
    "judge = judge_untrained()\n",
    "train_data_gen = DataGenerator(X_train.reshape(X_train.shape + (1,)), \n",
    "                               y_train, seed=0)\n",
    "val_data_gen = DataGenerator(X_test.reshape(X_test.shape + (1,)), \n",
    "                             y_test)\n",
    "judge.fit_generator(train_data_gen, validation_data=val_data_gen)"
   ]
  },
  {
   "cell_type": "markdown",
   "metadata": {},
   "source": [
    "We can see that it achieves an accuracy score of 98.3% on the test data.\n",
    "\n",
    "Now, when we train it on the masked data (only 5 pixels shown), we can see that it performs significantly worse with a test accuracy of 46.9%. A number that is comparable to the results in the paper (section 3, table 2)."
   ]
  },
  {
   "cell_type": "code",
   "execution_count": 317,
   "metadata": {
    "collapsed": false
   },
   "outputs": [
    {
     "name": "stdout",
     "output_type": "stream",
     "text": [
      "Epoch 1/1\n",
      "1875/1875 [==============================] - 62s 33ms/step - loss: 1.6854 - acc: 0.4054 - val_loss: 1.4945 - val_acc: 0.4688\n"
     ]
    },
    {
     "data": {
      "text/plain": [
       "<keras.callbacks.History at 0x228e3dc0048>"
      ]
     },
     "execution_count": 317,
     "metadata": {},
     "output_type": "execute_result"
    }
   ],
   "source": [
    "judge = judge_untrained()\n",
    "train_data_gen = MaskedDataGenerator(X_train.reshape(X_train.shape + (1,)), \n",
    "                                     y_train, seed=0)\n",
    "val_data_gen = MaskedDataGenerator(X_test.reshape(X_test.shape + (1,)), \n",
    "                                   y_test)\n",
    "judge.fit_generator(train_data_gen, validation_data=val_data_gen)"
   ]
  },
  {
   "cell_type": "markdown",
   "metadata": {},
   "source": []
  }
 ],
 "metadata": {
  "anaconda-cloud": {},
  "kernelspec": {
   "display_name": "Python [conda env:tensorflow-gpu]",
   "language": "python",
   "name": "conda-env-tensorflow-gpu-py"
  },
  "language_info": {
   "codemirror_mode": {
    "name": "ipython",
    "version": 3
   },
   "file_extension": ".py",
   "mimetype": "text/x-python",
   "name": "python",
   "nbconvert_exporter": "python",
   "pygments_lexer": "ipython3",
   "version": "3.5.4"
  }
 },
 "nbformat": 4,
 "nbformat_minor": 1
}
